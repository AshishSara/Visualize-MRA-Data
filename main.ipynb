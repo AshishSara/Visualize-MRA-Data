{
 "cells": [
  {
   "cell_type": "code",
   "execution_count": 32,
   "id": "initial_id",
   "metadata": {
    "ExecuteTime": {
     "end_time": "2023-10-07T22:56:00.359474Z",
     "start_time": "2023-10-07T22:55:49.152420Z"
    },
    "tags": []
   },
   "outputs": [
    {
     "data": {
      "application/vnd.jupyter.widget-view+json": {
       "model_id": "ed0d3a6dc4fb47e9b304b3377fea8914",
       "version_major": 2,
       "version_minor": 0
      },
      "text/plain": [
       "interactive(children=(IntSlider(value=0, description='Layer:'), IntSlider(value=0, description='Channel:', max…"
      ]
     },
     "metadata": {},
     "output_type": "display_data"
    },
    {
     "data": {
      "application/vnd.jupyter.widget-view+json": {
       "model_id": "25911757683c4742bb9db66eb0aed96d",
       "version_major": 2,
       "version_minor": 0
      },
      "text/plain": [
       "interactive(children=(Dropdown(description='Select File:', options=(('File 1', 0), ('File 2', 1), ('File 3', 2…"
      ]
     },
     "metadata": {},
     "output_type": "display_data"
    }
   ],
   "source": [
    "import numpy as np\n",
    "import nibabel as nib\n",
    "from ipywidgets import interact, fixed, IntSlider, Button, HBox, VBox, Dropdown\n",
    "import matplotlib.pyplot as plt\n",
    "import seaborn as sns\n",
    "import glob\n",
    "\n",
    "# Initialize styles and global variables\n",
    "sns.set_style('darkgrid')\n",
    "current_image_data = None\n",
    "current_label_data = None\n",
    "\n",
    "# Class Labels\n",
    "classes_dict = {\n",
    "    'Normal': 0.,\n",
    "    'Edema': 1.,\n",
    "    'Non-enhancing tumor': 2.,\n",
    "    'Enhancing tumor': 3.\n",
    "}\n",
    "# Function to load image and get slice thickness\n",
    "def load_image(image_path):\n",
    "    image_obj = nib.load(image_path)\n",
    "    image_data = image_obj.get_fdata()\n",
    "    \n",
    "    # Get affine matrix; the diagonal contains the voxel dimensions in mm\n",
    "    affine = image_obj.affine\n",
    "    slice_thickness = np.abs(affine[2, 2])\n",
    "    \n",
    "    return image_data, slice_thickness\n",
    "\n",
    "# Function to explore single image and label\n",
    "def explore_image_and_label(layer, channel):\n",
    "    global current_image_data, current_label_data, current_slice_thickness\n",
    "    \n",
    "    if current_image_data is None or current_label_data is None:\n",
    "        return\n",
    "    \n",
    "    plt.figure(figsize=(10, 5))\n",
    "    \n",
    "    plt.subplot(1, 2, 1)\n",
    "    plt.imshow(current_image_data[:, :, layer, channel], cmap='gray')\n",
    "    plt.title(f'MRI Image\\nSlice Thickness: {current_slice_thickness} mm')\n",
    "    plt.axis('off')\n",
    "    \n",
    "    plt.subplot(1, 2, 2)\n",
    "    plt.imshow(current_label_data[:, :, layer], cmap='jet', alpha=0.5)\n",
    "    plt.title('Label Overlay')\n",
    "    plt.axis('off')\n",
    "    \n",
    "    plt.tight_layout()\n",
    "    plt.show()\n",
    "\n",
    "# Function to update current image and label data\n",
    "def update_data(file_index):\n",
    "    global current_image_data, current_label_data, current_slice_thickness\n",
    "    \n",
    "    if file_index is None:  # Check for None before proceeding\n",
    "        return\n",
    "    \n",
    "    image_files = sorted(glob.glob(\"./data/images/*.nii.gz\"))\n",
    "    label_files = sorted(glob.glob(\"./data/labels/*.nii.gz\"))\n",
    "    \n",
    "    current_image_data, current_slice_thickness = load_image(image_files[file_index])\n",
    "    current_label_data, _ = load_image(label_files[file_index])  # Assume same slice thickness\n",
    "    layer_slider.max = current_image_data.shape[2] - 1\n",
    "    channel_slider.max = current_image_data.shape[3] - 1\n",
    "\n",
    "\n",
    "# Create widgets\n",
    "file_options = [(f\"File {i+1}\", i) for i in range(len(glob.glob(\"./data/images/*.nii.gz\")))]\n",
    "file_selector = Dropdown(options=file_options, description=\"Select File:\")\n",
    "layer_slider = IntSlider(min=0, max=100, description=\"Layer:\")\n",
    "channel_slider = IntSlider(min=0, max=3, description=\"Channel:\")\n",
    "prev_button = Button(description=\"Previous Layer\")\n",
    "next_button = Button(description=\"Next Layer\")\n",
    "\n",
    "# Event handlers for buttons\n",
    "def on_prev_button_clicked(b):\n",
    "    layer_slider.value = max(layer_slider.value - 1, layer_slider.min)\n",
    "\n",
    "def on_next_button_clicked(b):\n",
    "    layer_slider.value = min(layer_slider.value + 1, layer_slider.max)\n",
    "\n",
    "prev_button.on_click(on_prev_button_clicked)\n",
    "next_button.on_click(on_next_button_clicked)\n",
    "\n",
    "# Layout\n",
    "file_box = HBox([file_selector])\n",
    "layer_box = HBox([prev_button, layer_slider, next_button])\n",
    "channel_box = HBox([channel_slider])\n",
    "ui = VBox([file_box, layer_box, channel_box])\n",
    "\n",
    "# Display UI\n",
    "_ = interact(explore_image_and_label, layer=layer_slider, channel=channel_slider)\n",
    "_ = interact(update_data, file_index=file_selector)\n"
   ]
  },
  {
   "cell_type": "code",
   "execution_count": null,
   "id": "4857fe6c-0151-48cc-8c1e-1cc26da307fe",
   "metadata": {},
   "outputs": [],
   "source": []
  },
  {
   "cell_type": "code",
   "execution_count": null,
   "id": "1baf1fc3-ede1-4a52-89bd-e8092546f909",
   "metadata": {},
   "outputs": [],
   "source": []
  }
 ],
 "metadata": {
  "kernelspec": {
   "display_name": "Python 3 (ipykernel)",
   "language": "python",
   "name": "python3"
  },
  "language_info": {
   "codemirror_mode": {
    "name": "ipython",
    "version": 3
   },
   "file_extension": ".py",
   "mimetype": "text/x-python",
   "name": "python",
   "nbconvert_exporter": "python",
   "pygments_lexer": "ipython3",
   "version": "3.11.5"
  }
 },
 "nbformat": 4,
 "nbformat_minor": 5
}
