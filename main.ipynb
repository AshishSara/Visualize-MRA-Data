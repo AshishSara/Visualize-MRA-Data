{
 "cells": [
  {
   "cell_type": "code",
   "execution_count": 23,
   "id": "eb079059",
   "metadata": {},
   "outputs": [
    {
     "data": {
      "application/vnd.jupyter.widget-view+json": {
       "model_id": "7f61ff066d7e4a17b3a7aa0ac58ce6de",
       "version_major": 2,
       "version_minor": 0
      },
      "text/plain": [
       "interactive(children=(IntSlider(value=0, description='Layer:'), IntSlider(value=0, description='Channel:', max…"
      ]
     },
     "metadata": {},
     "output_type": "display_data"
    },
    {
     "data": {
      "application/vnd.jupyter.widget-view+json": {
       "model_id": "cbbfb3231c9f4a57af8f281b631bdeb4",
       "version_major": 2,
       "version_minor": 0
      },
      "text/plain": [
       "interactive(children=(Dropdown(description='Select File:', options=(('File 1', 0), ('File 2', 1), ('File 3', 2…"
      ]
     },
     "metadata": {},
     "output_type": "display_data"
    }
   ],
   "source": [
    "# Import necessary libraries\n",
    "import numpy as np\n",
    "import nibabel as nib\n",
    "from ipywidgets import interact, IntSlider, Button, HBox, VBox, Dropdown\n",
    "import matplotlib.pyplot as plt\n",
    "import glob\n",
    "\n",
    "# Initialize global variables\n",
    "current_image_data = None\n",
    "current_label_data = None\n",
    "\n",
    "# Function to load image and get slice thickness\n",
    "def load_image(image_path):\n",
    "    image_obj = nib.load(image_path)\n",
    "    return image_obj.get_fdata(), np.abs(image_obj.affine[2, 2])\n",
    "\n",
    "# Function to explore single image and label\n",
    "def explore_image_and_label(layer, channel):\n",
    "    global current_image_data, current_label_data, current_slice_thickness\n",
    "    \n",
    "    if current_image_data is None or current_label_data is None:\n",
    "        return\n",
    "    \n",
    "    plt.figure(figsize=(12, 6))\n",
    "    \n",
    "    plt.subplot(1, 2, 1)\n",
    "    plt.imshow(current_image_data[:, :, layer, channel], cmap='gray')\n",
    "    plt.title(f'MRI Image\\nSlice Thickness: {current_slice_thickness} mm')\n",
    "    plt.axis('off')\n",
    "    \n",
    "    plt.subplot(1, 2, 2)\n",
    "    img = plt.imshow(current_label_data[:, :, layer], cmap='jet', alpha=0.5)\n",
    "    plt.title('Label Overlay')\n",
    "    plt.axis('off')\n",
    "    \n",
    "    cbar = plt.colorbar(img, orientation='vertical', ticks=[0, 1, 2, 3])\n",
    "    cbar.set_label('Class Labels')\n",
    "    cbar.set_ticklabels(['Normal', 'Edema', 'Non-enhancing tumor', 'Enhancing tumor'])\n",
    "    \n",
    "    plt.tight_layout()\n",
    "    plt.show()\n",
    "\n",
    "# Function to update current image and label data\n",
    "def update_data(file_index):\n",
    "    global current_image_data, current_label_data, current_slice_thickness\n",
    "    \n",
    "    if file_index is None:\n",
    "        return\n",
    "    \n",
    "    image_files = sorted(glob.glob(\"./data/images/*.nii.gz\"))\n",
    "    label_files = sorted(glob.glob(\"./data/labels/*.nii.gz\"))\n",
    "    \n",
    "    current_image_data, current_slice_thickness = load_image(image_files[file_index])\n",
    "    current_label_data, _ = load_image(label_files[file_index])\n",
    "    layer_slider.max = current_image_data.shape[2] - 1\n",
    "    channel_slider.max = current_image_data.shape[3] - 1\n",
    "\n",
    "# Create widgets and layout\n",
    "file_options = [(f\"File {i+1}\", i) for i in range(len(glob.glob(\"./data/images/*.nii.gz\")))]\n",
    "file_selector = Dropdown(options=file_options, description=\"Select File:\")\n",
    "layer_slider = IntSlider(min=0, max=100, description=\"Layer:\")\n",
    "channel_slider = IntSlider(min=0, max=3, description=\"Channel:\")\n",
    "\n",
    "file_box = HBox([file_selector])\n",
    "layer_box = HBox([layer_slider])\n",
    "channel_box = HBox([channel_slider])\n",
    "ui = VBox([file_box, layer_box, channel_box])\n",
    "\n",
    "# Display UI\n",
    "_ = interact(explore_image_and_label, layer=layer_slider, channel=channel_slider)\n",
    "_ = interact(update_data, file_index=file_selector)\n"
   ]
  }
 ],
 "metadata": {
  "kernelspec": {
   "display_name": "Python 3 (ipykernel)",
   "language": "python",
   "name": "python3"
  },
  "language_info": {
   "codemirror_mode": {
    "name": "ipython",
    "version": 3
   },
   "file_extension": ".py",
   "mimetype": "text/x-python",
   "name": "python",
   "nbconvert_exporter": "python",
   "pygments_lexer": "ipython3",
   "version": "3.11.5"
  }
 },
 "nbformat": 4,
 "nbformat_minor": 5
}
